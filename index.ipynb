{
 "cells": [
  {
   "cell_type": "markdown",
   "metadata": {},
   "source": [
    "# Filtering Data with SQL - Lab"
   ]
  },
  {
   "cell_type": "markdown",
   "metadata": {},
   "source": [
    "## Introduction \n",
    "\n",
    "NASA wants to go to Mars! Before they build their rocket, NASA needs to track information about all of the planets in the Solar System. In this lab, you'll practice querying the database with various `SELECT` statements. This will include selecting different columns and implementing other SQL clauses like `WHERE` to return the data desired."
   ]
  },
  {
   "cell_type": "markdown",
   "metadata": {},
   "source": [
    "<img src=\"https://raw.githubusercontent.com/learn-co-curriculum/dsc-filtering-lab-v2-4/master/images/planets.png\" alt=\"image of solar system\" width=\"600\">"
   ]
  },
  {
   "cell_type": "markdown",
   "metadata": {},
   "source": [
    "## Objectives\n",
    "\n",
    "You will practice the following:\n",
    "\n",
    "* Retrieve a subset of records from a table using a `WHERE` clause\n",
    "* Filter results using conditional operators such as `BETWEEN`, `IS NULL`, and `LIKE`\n",
    "* Apply an aggregate function to the result of a filtered query"
   ]
  },
  {
   "cell_type": "markdown",
   "metadata": {},
   "source": [
    "## Connecting to the Database\n",
    "\n",
    "To get started, import `sqlite3` as well as `pandas` for conveniently displaying results. Then, connect to the SQLite database located at `planets.db`. "
   ]
  },
  {
   "cell_type": "code",
   "execution_count": 5,
   "metadata": {},
   "outputs": [
    {
     "name": "stdout",
     "output_type": "stream",
     "text": [
      "Collecting pandasNote: you may need to restart the kernel to use updated packages.\n",
      "\n",
      "  Downloading pandas-2.0.3-cp38-cp38-win_amd64.whl.metadata (18 kB)\n",
      "Requirement already satisfied: python-dateutil>=2.8.2 in c:\\users\\administrator\\anaconda3\\envs\\learn-env\\lib\\site-packages (from pandas) (2.9.0)\n",
      "Collecting pytz>=2020.1 (from pandas)\n",
      "  Downloading pytz-2025.2-py2.py3-none-any.whl.metadata (22 kB)\n",
      "Collecting tzdata>=2022.1 (from pandas)\n",
      "  Downloading tzdata-2025.2-py2.py3-none-any.whl.metadata (1.4 kB)\n",
      "Collecting numpy>=1.20.3 (from pandas)\n",
      "  Downloading numpy-1.24.4-cp38-cp38-win_amd64.whl.metadata (5.6 kB)\n",
      "Requirement already satisfied: six>=1.5 in c:\\users\\administrator\\anaconda3\\envs\\learn-env\\lib\\site-packages (from python-dateutil>=2.8.2->pandas) (1.16.0)\n",
      "Downloading pandas-2.0.3-cp38-cp38-win_amd64.whl (10.8 MB)\n",
      "   ---------------------------------------- 0.0/10.8 MB ? eta -:--:--\n",
      "   ---------------------------------------- 0.0/10.8 MB ? eta -:--:--\n",
      "   - -------------------------------------- 0.5/10.8 MB 2.1 MB/s eta 0:00:05\n",
      "   ------ --------------------------------- 1.8/10.8 MB 4.2 MB/s eta 0:00:03\n",
      "   ------------- -------------------------- 3.7/10.8 MB 5.6 MB/s eta 0:00:02\n",
      "   ------------------------ --------------- 6.6/10.8 MB 7.6 MB/s eta 0:00:01\n",
      "   ---------------------------------- ----- 9.2/10.8 MB 8.6 MB/s eta 0:00:01\n",
      "   ---------------------------------------- 10.8/10.8 MB 8.2 MB/s eta 0:00:00\n",
      "Downloading numpy-1.24.4-cp38-cp38-win_amd64.whl (14.9 MB)\n",
      "   ---------------------------------------- 0.0/14.9 MB ? eta -:--:--\n",
      "   -------- ------------------------------- 3.1/14.9 MB 15.3 MB/s eta 0:00:01\n",
      "   ----------- ---------------------------- 4.5/14.9 MB 11.2 MB/s eta 0:00:01\n",
      "   ------------------- -------------------- 7.3/14.9 MB 11.6 MB/s eta 0:00:01\n",
      "   --------------------- ------------------ 7.9/14.9 MB 9.9 MB/s eta 0:00:01\n",
      "   ----------------------------- ---------- 11.0/14.9 MB 10.4 MB/s eta 0:00:01\n",
      "   -------------------------------------- - 14.2/14.9 MB 11.1 MB/s eta 0:00:01\n",
      "   ---------------------------------------  14.7/14.9 MB 11.0 MB/s eta 0:00:01\n",
      "   ---------------------------------------- 14.9/14.9 MB 8.7 MB/s eta 0:00:00\n",
      "Downloading pytz-2025.2-py2.py3-none-any.whl (509 kB)\n",
      "Downloading tzdata-2025.2-py2.py3-none-any.whl (347 kB)\n",
      "Installing collected packages: pytz, tzdata, numpy, pandas\n",
      "Successfully installed numpy-1.24.4 pandas-2.0.3 pytz-2025.2 tzdata-2025.2\n"
     ]
    }
   ],
   "source": [
    "# Your code here\n",
    "%pip install pandas\n",
    "import sqlite3\n",
    "import pandas as pd\n"
   ]
  },
  {
   "cell_type": "markdown",
   "metadata": {},
   "source": [
    "# Connecting to planets.db database"
   ]
  },
  {
   "cell_type": "code",
   "execution_count": 3,
   "metadata": {},
   "outputs": [],
   "source": [
    "#connecting to database\n",
    "conn= sqlite3.connect('planets.db')\n",
    "#creating cursor\n",
    "c= conn.cursor()\n"
   ]
  },
  {
   "cell_type": "code",
   "execution_count": 6,
   "metadata": {},
   "outputs": [
    {
     "data": {
      "text/plain": [
       "<sqlite3.Cursor at 0x2c177a01490>"
      ]
     },
     "execution_count": 6,
     "metadata": {},
     "output_type": "execute_result"
    }
   ],
   "source": [
    "#checking if the table exists\n",
    "c.execute('''\n",
    "SELECT name FROM sqlite_master WHERE type='table' AND name='planets';\n",
    "''')"
   ]
  },
  {
   "cell_type": "markdown",
   "metadata": {},
   "source": [
    "## Database Schema\n",
    "\n",
    "This database contains a single table, `planets`. This is the schema:\n",
    "\n",
    "```\n",
    "CREATE TABLE planets (\n",
    "  id INTEGER PRIMARY KEY,\n",
    "  name TEXT,\n",
    "  color TEXT,\n",
    "  num_of_moons INTEGER,\n",
    "  mass REAL,\n",
    "  rings BOOLEAN\n",
    ");\n",
    "```\n",
    "\n",
    "The data looks something like this:\n",
    "\n",
    "| id | name    | color      | num_of_moons | mass   | rings |\n",
    "| -- | ------- | ---------- | ------------ | ------ | ----- |\n",
    "| 1  | Mercury | gray       | 0            | 0.55   | FALSE |\n",
    "| 2  | Venus   | yellow     | 0            | 0.82   | FALSE |\n",
    "| 3  | Earth   | blue       | 1            | 1.00   | FALSE |\n",
    "| 4  | Mars    | red        | 2            | 0.11   | FALSE |\n",
    "| 5  | Jupiter | orange     | 67           | 317.90 | FALSE |\n",
    "| 6  | Saturn  | hazel      | 62           | 95.19  | TRUE  |\n",
    "| 7  | Uranus  | light blue | 27           | 14.54  | TRUE  |\n",
    "| 8  | Neptune | dark blue  | 14           | 17.15  | TRUE  |"
   ]
  },
  {
   "cell_type": "markdown",
   "metadata": {},
   "source": [
    "## SQL Queries\n",
    "\n",
    "Write SQL queries for each of the statements below using the same pandas wrapping syntax from the previous lesson."
   ]
  },
  {
   "cell_type": "markdown",
   "metadata": {},
   "source": [
    "### 1. Select just the `name` and `color` of each planet"
   ]
  },
  {
   "cell_type": "code",
   "execution_count": 13,
   "metadata": {},
   "outputs": [
    {
     "data": {
      "text/plain": [
       "[('Mercury', 'gray'),\n",
       " ('Venus', 'yellow'),\n",
       " ('Earth', 'blue'),\n",
       " ('Mars', 'red'),\n",
       " ('Jupiter', 'orange'),\n",
       " ('Saturn', 'hazel'),\n",
       " ('Uranus', 'light blue'),\n",
       " ('Neptune', 'dark blue')]"
      ]
     },
     "execution_count": 13,
     "metadata": {},
     "output_type": "execute_result"
    }
   ],
   "source": [
    "# select name and color of each planet\n",
    "c.execute('''\n",
    "SELECT name, color FROM planets;\n",
    "''')\n",
    "#displaying the result\n",
    "c.fetchall()\n",
    "\n",
    "\n"
   ]
  },
  {
   "cell_type": "markdown",
   "metadata": {},
   "source": [
    "### 2. Select all columns for each planet whose `num_of_moons` is 0"
   ]
  },
  {
   "cell_type": "code",
   "execution_count": 15,
   "metadata": {},
   "outputs": [
    {
     "data": {
      "text/plain": [
       "[(1, 'Mercury', 'gray', 0, 0.55, 0), (2, 'Venus', 'yellow', 0, 0.82, 0)]"
      ]
     },
     "execution_count": 15,
     "metadata": {},
     "output_type": "execute_result"
    }
   ],
   "source": [
    "# select all columns for each planet whose number of moons is 0\n",
    "c.execute(''' \n",
    "SELECT * FROM planets WHERE num_of_moons = 0;\n",
    "          ''')\n",
    "#displaying the result\n",
    "c.fetchall()"
   ]
  },
  {
   "cell_type": "markdown",
   "metadata": {},
   "source": [
    "### 3. Select the `name` and `mass` of each planet whose `name` has exactly 7 letters"
   ]
  },
  {
   "cell_type": "code",
   "execution_count": 16,
   "metadata": {},
   "outputs": [
    {
     "data": {
      "text/plain": [
       "[('Mercury', 0.55), ('Jupiter', 317.9), ('Neptune', 17.15)]"
      ]
     },
     "execution_count": 16,
     "metadata": {},
     "output_type": "execute_result"
    }
   ],
   "source": [
    "# Selct name and mass of each planet whose name has exactly 7 characters\n",
    "c.execute(''' \n",
    "SELECT name, mass FROM planets WHERE LENGTH(name) = 7;\n",
    "          ''')\n",
    "c.fetchall()"
   ]
  },
  {
   "cell_type": "markdown",
   "metadata": {},
   "source": [
    "### 4. Select all columns for each planet whose `mass` is greater than 1.00"
   ]
  },
  {
   "cell_type": "code",
   "execution_count": 17,
   "metadata": {},
   "outputs": [
    {
     "data": {
      "text/plain": [
       "[(5, 'Jupiter', 'orange', 68, 317.9, 0),\n",
       " (6, 'Saturn', 'hazel', 62, 95.19, 1),\n",
       " (7, 'Uranus', 'light blue', 27, 14.54, 1),\n",
       " (8, 'Neptune', 'dark blue', 14, 17.15, 1)]"
      ]
     },
     "execution_count": 17,
     "metadata": {},
     "output_type": "execute_result"
    }
   ],
   "source": [
    "# Select all columns for each planet whose mass is greater than 1.00\n",
    "c.execute(''' \n",
    "SELECT * FROM planets WHERE mass > 1.00;\n",
    "          ''')\n",
    "c.fetchall()"
   ]
  },
  {
   "cell_type": "markdown",
   "metadata": {},
   "source": [
    "### 5. Select the `name` and `mass` of each planet whose `mass` is less than or equal to 1.00"
   ]
  },
  {
   "cell_type": "code",
   "execution_count": 18,
   "metadata": {},
   "outputs": [
    {
     "data": {
      "text/plain": [
       "[('Mercury', 0.55), ('Venus', 0.82), ('Mars', 0.11)]"
      ]
     },
     "execution_count": 18,
     "metadata": {},
     "output_type": "execute_result"
    }
   ],
   "source": [
    "# Select name and mass of each planet whose mass is less than 1.00\n",
    "c.execute(''' \n",
    "SELECT name, mass FROM planets WHERE mass < 1.00;\n",
    "        ''')\n",
    "c.fetchall()"
   ]
  },
  {
   "cell_type": "markdown",
   "metadata": {},
   "source": [
    "### 6. Select the `name` and `mass` of each planet whose `mass` is between 0 and 50"
   ]
  },
  {
   "cell_type": "code",
   "execution_count": 19,
   "metadata": {},
   "outputs": [
    {
     "data": {
      "text/plain": [
       "[('Mercury', 0.55),\n",
       " ('Venus', 0.82),\n",
       " ('Earth', 1.0),\n",
       " ('Mars', 0.11),\n",
       " ('Uranus', 14.54),\n",
       " ('Neptune', 17.15)]"
      ]
     },
     "execution_count": 19,
     "metadata": {},
     "output_type": "execute_result"
    }
   ],
   "source": [
    "# Select name and mass of each planet whose mass is between 0 and 50\n",
    "c.execute(''' \n",
    "SELECT name, mass FROM planets WHERE mass BETWEEN 0 AND 50;\n",
    "          ''')\n",
    "c.fetchall()\n"
   ]
  },
  {
   "cell_type": "markdown",
   "metadata": {},
   "source": [
    "### 7. Select all columns for planets that have at least one moon and a `mass` less than 1.00\n",
    "\n",
    "***Hint:*** You can use `AND` to chain together two conditions in SQL, similar to `and` in Python"
   ]
  },
  {
   "cell_type": "code",
   "execution_count": 21,
   "metadata": {},
   "outputs": [
    {
     "data": {
      "text/plain": [
       "[(4, 'Mars', 'red', 2, 0.11, 0)]"
      ]
     },
     "execution_count": 21,
     "metadata": {},
     "output_type": "execute_result"
    }
   ],
   "source": [
    "# Select columns for planets that have at least one moon and a mass less than 1.00\n",
    "c.execute(''' \n",
    "SELECT * FROM planets WHERE num_of_moons > 0 AND mass < 1.00;\n",
    "          ''')\n",
    "c.fetchall()"
   ]
  },
  {
   "cell_type": "markdown",
   "metadata": {},
   "source": [
    "### 8. Select the `name` and `color` of planets that have a `color` containing the string \"blue\""
   ]
  },
  {
   "cell_type": "code",
   "execution_count": 22,
   "metadata": {},
   "outputs": [
    {
     "data": {
      "text/plain": [
       "[('Earth', 'blue'), ('Uranus', 'light blue'), ('Neptune', 'dark blue')]"
      ]
     },
     "execution_count": 22,
     "metadata": {},
     "output_type": "execute_result"
    }
   ],
   "source": [
    "# Select name and color of planets that have a color containing the string \"blue\"\n",
    "c.execute(''' \n",
    "SELECT name, color FROM planets WHERE COLOR LIKE '%blue%';\n",
    "          ''')\n",
    "c.fetchall()"
   ]
  },
  {
   "cell_type": "markdown",
   "metadata": {},
   "source": [
    "### 9. Select the count of planets that don't have rings as `planets_without_rings`\n",
    "\n",
    "Note: even though the schema states that `rings` is a `BOOLEAN` and the example table shows values `TRUE` and `FALSE`, SQLite does not actually support booleans natively. From the [documentation](https://www.sqlite.org/datatype3.html#boolean_datatype):\n",
    "\n",
    "> SQLite does not have a separate Boolean storage class. Instead, Boolean values are stored as integers 0 (false) and 1 (true)."
   ]
  },
  {
   "cell_type": "code",
   "execution_count": 24,
   "metadata": {},
   "outputs": [
    {
     "data": {
      "text/plain": [
       "[(5,)]"
      ]
     },
     "execution_count": 24,
     "metadata": {},
     "output_type": "execute_result"
    }
   ],
   "source": [
    "# Select the count of planets that do not have rings as planets_without_rings\n",
    "c.execute(''' \n",
    "SELECT COUNT(*) AS planets_without_rings FROM planets WHERE rings = 0;\n",
    "          ''')\n",
    "c.fetchall()"
   ]
  },
  {
   "cell_type": "markdown",
   "metadata": {},
   "source": [
    "### 10. Select the name of all planets, along with a value `has_rings` that returns \"Yes\" if the planet does have rings, and \"No\" if it does not"
   ]
  },
  {
   "cell_type": "code",
   "execution_count": 25,
   "metadata": {},
   "outputs": [
    {
     "data": {
      "text/plain": [
       "[('Mercury', 'NO'),\n",
       " ('Venus', 'NO'),\n",
       " ('Earth', 'NO'),\n",
       " ('Mars', 'NO'),\n",
       " ('Jupiter', 'NO'),\n",
       " ('Saturn', 'Yes'),\n",
       " ('Uranus', 'Yes'),\n",
       " ('Neptune', 'Yes')]"
      ]
     },
     "execution_count": 25,
     "metadata": {},
     "output_type": "execute_result"
    }
   ],
   "source": [
    "# Select name  of all planets ,along with a value rings that returns \"Yes\" if the planet does have rings, and \"No\" if it does not\n",
    "c.execute(''' \n",
    "SELECT name, CASE WHEN rings = 1 THEN 'Yes' ELSE 'NO' END AS rings FROM planets; \n",
    "          ''')\n",
    "c.fetchall()"
   ]
  },
  {
   "cell_type": "code",
   "execution_count": 26,
   "metadata": {},
   "outputs": [],
   "source": [
    "#closeing the connection\n",
    "conn.close()\n"
   ]
  },
  {
   "cell_type": "markdown",
   "metadata": {},
   "source": [
    "## Summary"
   ]
  },
  {
   "cell_type": "markdown",
   "metadata": {},
   "source": [
    "Congratulations! NASA is one step closer to embarking upon its mission to Mars. In this lab, You practiced writing `SELECT` statements that query a single table to get specific information. You also used other clauses and specified column names to cherry-pick the data we wanted to retrieve. "
   ]
  }
 ],
 "metadata": {
  "kernelspec": {
   "display_name": "learn-env",
   "language": "python",
   "name": "python3"
  },
  "language_info": {
   "codemirror_mode": {
    "name": "ipython",
    "version": 3
   },
   "file_extension": ".py",
   "mimetype": "text/x-python",
   "name": "python",
   "nbconvert_exporter": "python",
   "pygments_lexer": "ipython3",
   "version": "3.8.20"
  },
  "toc": {
   "base_numbering": 1,
   "nav_menu": {},
   "number_sections": true,
   "sideBar": true,
   "skip_h1_title": false,
   "title_cell": "Table of Contents",
   "title_sidebar": "Contents",
   "toc_cell": false,
   "toc_position": {},
   "toc_section_display": true,
   "toc_window_display": false
  }
 },
 "nbformat": 4,
 "nbformat_minor": 2
}
